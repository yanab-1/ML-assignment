{
 "cells": [
  {
   "cell_type": "markdown",
   "id": "b2b15e3a",
   "metadata": {},
   "source": [
    "Part-I Numpy Questions\n",
    "Objective:\n",
    "To build a strong foundation in using NumPy for numerical computations,\n",
    "including creating arrays, performing operations, and leveraging its\n",
    "powerful functionalities."
   ]
  },
  {
   "cell_type": "markdown",
   "id": "e34c5187",
   "metadata": {},
   "source": [
    "Task 1: Creating Arrays\n",
    "1. Write a Python program to:\n",
    "--> Create a 1D NumPy array of 10 integers ranging from 1 to 10.\n",
    "--> Create a 2D NumPy array of shape (3, 3) with integers from 1 to 9.\n",
    "--> Create a 3D NumPy array with random floating-point numbers of shape (3, 5, 3).\n",
    "2. Display the shape, size, and datatype of each array"
   ]
  },
  {
   "cell_type": "code",
   "execution_count": 9,
   "id": "cd5a95a6",
   "metadata": {},
   "outputs": [
    {
     "name": "stdout",
     "output_type": "stream",
     "text": [
      "1D Array:\n",
      "[ 1  2  3  4  5  6  7  8  9 10]\n",
      "Shape: (10,)\n",
      "Size: 10\n",
      "Datatype: int64\n"
     ]
    }
   ],
   "source": [
    "import numpy as np\n",
    "array_1d = np.arange(1, 11)\n",
    "print(\"1D Array:\")\n",
    "print(array_1d)\n",
    "print(\"Shape:\", array_1d.shape)\n",
    "print(\"Size:\", array_1d.size)\n",
    "print(\"Datatype:\", array_1d.dtype)"
   ]
  },
  {
   "cell_type": "code",
   "execution_count": 10,
   "id": "db777252",
   "metadata": {},
   "outputs": [
    {
     "name": "stdout",
     "output_type": "stream",
     "text": [
      "2D Array:\n",
      "[[1 2 3]\n",
      " [4 5 6]\n",
      " [7 8 9]]\n",
      "Shape: (3, 3)\n",
      "Size: 9\n",
      "Datatype: int64\n"
     ]
    }
   ],
   "source": [
    "import numpy as np\n",
    "array_2d = np.arange(1, 10).reshape(3, 3)\n",
    "print(\"2D Array:\")\n",
    "print(array_2d)\n",
    "print(\"Shape:\", array_2d.shape)\n",
    "print(\"Size:\", array_2d.size)\n",
    "print(\"Datatype:\", array_2d.dtype)"
   ]
  },
  {
   "cell_type": "code",
   "execution_count": 11,
   "id": "9df7adce",
   "metadata": {},
   "outputs": [
    {
     "name": "stdout",
     "output_type": "stream",
     "text": [
      "3D Array:\n",
      "[[[0.74158197 0.00167688 0.24968506]\n",
      "  [0.18291414 0.40413797 0.61604244]\n",
      "  [0.04539895 0.06217571 0.60825349]\n",
      "  [0.70542789 0.37689371 0.79053798]\n",
      "  [0.38007518 0.15199165 0.45374432]]\n",
      "\n",
      " [[0.93162509 0.03699525 0.07982708]\n",
      "  [0.85328625 0.21975589 0.99108854]\n",
      "  [0.69755568 0.67047727 0.35603326]\n",
      "  [0.88426334 0.99094392 0.56419039]\n",
      "  [0.24563711 0.04588708 0.84566212]]\n",
      "\n",
      " [[0.87325764 0.00277796 0.38067615]\n",
      "  [0.35054111 0.67339599 0.27971668]\n",
      "  [0.94862285 0.29452045 0.59054644]\n",
      "  [0.3851063  0.72484016 0.69321745]\n",
      "  [0.54473734 0.9800322  0.29279224]]]\n",
      "Shape: (3, 5, 3)\n",
      "Size: 45\n",
      "Datatype: float64\n"
     ]
    }
   ],
   "source": [
    "import numpy as np\n",
    "array_3d = np.random.rand(3, 5, 3)\n",
    "print(\"3D Array:\")\n",
    "print(array_3d)\n",
    "print(\"Shape:\", array_3d.shape)\n",
    "print(\"Size:\", array_3d.size)\n",
    "print(\"Datatype:\", array_3d.dtype)"
   ]
  },
  {
   "cell_type": "markdown",
   "id": "65893e18",
   "metadata": {},
   "source": [
    "Task 2: Array Indexing and Slicing:-\n",
    "\n",
    "1. Create a NumPy array from the following list:\n",
    "-->data = [10, 20, 30, 40, 50, 60, 70, 80, 90]\n",
    "2. Write a Python program to:\n",
    "-->Retrieve the first three elements of the array.\n",
    "-->Retrieve every alternate element of the array.\n",
    "-->Reverse the array.\n",
    "3. Perform the above operations and display the results"
   ]
  },
  {
   "cell_type": "code",
   "execution_count": 14,
   "id": "f799789d",
   "metadata": {},
   "outputs": [
    {
     "name": "stdout",
     "output_type": "stream",
     "text": [
      "Original Array:\n",
      "[10 20 30 40 50 60 70 80 90]\n",
      "First three elements:\n",
      "[10 20 30]\n",
      "Every alternate element:\n",
      "[10 30 50 70 90]\n",
      "Reversed Array:\n",
      "[90 80 70 60 50 40 30 20 10]\n"
     ]
    }
   ],
   "source": [
    "import numpy as np\n",
    "data = [10, 20, 30, 40, 50, 60, 70, 80, 90]\n",
    "arr = np.array(data)\n",
    "print(\"Original Array:\")\n",
    "print(arr)\n",
    "\n",
    "first_three = arr[:3]\n",
    "print(\"First three elements:\")\n",
    "print(first_three)\n",
    "\n",
    "alternate_elements = arr[::2]\n",
    "print(\"Every alternate element:\")\n",
    "print(alternate_elements)\n",
    "\n",
    "reversed_array = arr[::-1]\n",
    "print(\"Reversed Array:\")\n",
    "print(reversed_array)\n"
   ]
  },
  {
   "cell_type": "markdown",
   "id": "198d14ab",
   "metadata": {},
   "source": [
    "Task 3: Mathematical Operations:-\n",
    "1. Create two NumPy arrays, A and B, each with 5 random integers between 1 and 20.\n",
    "\n",
    "2. Write a Python program to:-\n",
    "\n",
    "--> Add, subtract, multiply, and divide the two arrays element-wise.\n",
    "--> Compute the dot product of the arrays.\n",
    "--> Find the mean, median, standard deviation, and variance o--> array A.\n",
    "--> Identify the maximum and minimum values in array B and their indices"
   ]
  },
  {
   "cell_type": "code",
   "execution_count": null,
   "id": "7d85e4a2",
   "metadata": {},
   "outputs": [
    {
     "name": "stdout",
     "output_type": "stream",
     "text": [
      "Array A: [ 2 20 14 10 18]\n",
      "Array B: [17 14 12 10  5]\n",
      "\n",
      "Addition (A + B): [19 34 26 20 23]\n",
      "Subtraction (A - B): [-15   6   2   0  13]\n",
      "Multiplication (A * B): [ 34 280 168 100  90]\n",
      "Division (A / B): [0.11764706 1.42857143 1.16666667 1.         3.6       ]\n",
      "\n"
     ]
    }
   ],
   "source": [
    "import numpy as np\n",
    "\n",
    "# 1. Create two arrays A and B with 5 random integers between 1 and 20\n",
    "A = np.random.randint(1, 21, size=5)\n",
    "B = np.random.randint(1, 21, size=5)\n",
    "\n",
    "print(\"Array A:\", A)\n",
    "print(\"Array B:\", B)\n",
    "print()\n",
    "\n",
    "# 2. Element-wise addition, subtraction, multiplication, and division\n",
    "print(\"Addition (A + B):\", A + B)\n",
    "print(\"Subtraction (A - B):\", A - B)\n",
    "print(\"Multiplication (A * B):\", A * B)\n",
    "print(\"Division (A / B):\", A / B)  \n",
    "print()\n"
   ]
  },
  {
   "cell_type": "code",
   "execution_count": 18,
   "id": "cd6c83fc",
   "metadata": {},
   "outputs": [
    {
     "name": "stdout",
     "output_type": "stream",
     "text": [
      "Dot Product (A · B): 672\n",
      "\n"
     ]
    }
   ],
   "source": [
    "# Dot product of A and B\n",
    "dot_product = np.dot(A, B)\n",
    "print(\"Dot Product (A · B):\", dot_product)\n",
    "print()\n",
    "\n"
   ]
  },
  {
   "cell_type": "code",
   "execution_count": 21,
   "id": "0a57046b",
   "metadata": {},
   "outputs": [
    {
     "name": "stdout",
     "output_type": "stream",
     "text": [
      "Mean of A: 12.8\n",
      "Median of A: 14.0\n",
      "Standard Deviation of A: 6.4\n",
      "Variance of A: 40.96\n",
      "\n"
     ]
    }
   ],
   "source": [
    "# Mean, median, standard deviation, and variance of A\n",
    "print(\"Mean of A:\", np.mean(A))\n",
    "print(\"Median of A:\", np.median(A))\n",
    "print(\"Standard Deviation of A:\", np.std(A))\n",
    "print(\"Variance of A:\", np.var(A))\n",
    "print()\n",
    "\n"
   ]
  },
  {
   "cell_type": "code",
   "execution_count": 20,
   "id": "8b9a360c",
   "metadata": {},
   "outputs": [
    {
     "name": "stdout",
     "output_type": "stream",
     "text": [
      "Maximum value in B: 17 at index 0\n",
      "Minimum value in B: 5 at index 4\n"
     ]
    }
   ],
   "source": [
    "\n",
    "# Max, min, and their indices in B\n",
    "print(\"Maximum value in B:\", np.max(B), \"at index\", np.argmax(B))\n",
    "print(\"Minimum value in B:\", np.min(B), \"at index\", np.argmin(B))"
   ]
  },
  {
   "cell_type": "markdown",
   "id": "01378b73",
   "metadata": {},
   "source": [
    "Task 4: Reshaping and Transposing\n",
    "1. Create a 1D NumPy array of 12 integers ranging from 1 to 12.\n",
    "2. Write a Python program to:\n",
    "-->Reshape the array into a 2D array of shape (4, 3).\n",
    "-->Reshape the array into a 3D array of shape (2, 2, 3).\n",
    "-->Transpose the reshaped 2D array and display its shape."
   ]
  },
  {
   "cell_type": "code",
   "execution_count": 22,
   "id": "3bcfda39",
   "metadata": {},
   "outputs": [
    {
     "name": "stdout",
     "output_type": "stream",
     "text": [
      "Original 1D Array:\n",
      "[ 1  2  3  4  5  6  7  8  9 10 11 12]\n",
      "Shape: (12,)\n",
      "\n",
      "Reshaped to 2D Array (4x3):\n",
      "[[ 1  2  3]\n",
      " [ 4  5  6]\n",
      " [ 7  8  9]\n",
      " [10 11 12]]\n",
      "Shape: (4, 3)\n",
      "\n",
      "Reshaped to 3D Array (2x2x3):\n",
      "[[[ 1  2  3]\n",
      "  [ 4  5  6]]\n",
      "\n",
      " [[ 7  8  9]\n",
      "  [10 11 12]]]\n",
      "Shape: (2, 2, 3)\n",
      "\n",
      "Transposed 2D Array:\n",
      "[[ 1  4  7 10]\n",
      " [ 2  5  8 11]\n",
      " [ 3  6  9 12]]\n",
      "Shape after transpose: (3, 4)\n"
     ]
    }
   ],
   "source": [
    "import numpy as np\n",
    "\n",
    "# 1. Create a 1D array of 12 integers from 1 to 12\n",
    "arr_1d = np.arange(1, 13)\n",
    "print(\"Original 1D Array:\")\n",
    "print(arr_1d)\n",
    "print(\"Shape:\", arr_1d.shape)\n",
    "print()\n",
    "\n",
    "# 2. Reshape into a 2D array of shape (4, 3)\n",
    "arr_2d = arr_1d.reshape(4, 3)\n",
    "print(\"Reshaped to 2D Array (4x3):\")\n",
    "print(arr_2d)\n",
    "print(\"Shape:\", arr_2d.shape)\n",
    "print()\n",
    "\n",
    "# 3. Reshape into a 3D array of shape (2, 2, 3)\n",
    "arr_3d = arr_1d.reshape(2, 2, 3)\n",
    "print(\"Reshaped to 3D Array (2x2x3):\")\n",
    "print(arr_3d)\n",
    "print(\"Shape:\", arr_3d.shape)\n",
    "print()\n",
    "\n",
    "# 4. Transpose the 2D array and display its shape\n",
    "transposed_2d = arr_2d.T\n",
    "print(\"Transposed 2D Array:\")\n",
    "print(transposed_2d)\n",
    "print(\"Shape after transpose:\", transposed_2d.shape)\n"
   ]
  },
  {
   "cell_type": "markdown",
   "id": "193d8563",
   "metadata": {},
   "source": [
    "Task 5: Boolean Masking and Filtering:-\n",
    "\n",
    "1. Create a NumPy array with 15 random integers between 10 and 50.\n",
    "2. Write a Python program to:\n",
    "-->Find all elements greater than 25.\n",
    "-->Replace all elements less than 30 with 0.\n",
    "-->Count the number of elements divisible by 5."
   ]
  },
  {
   "cell_type": "code",
   "execution_count": 23,
   "id": "ca472936",
   "metadata": {},
   "outputs": [
    {
     "name": "stdout",
     "output_type": "stream",
     "text": [
      "Original Array:\n",
      "[20 26 12 25 13 39 27 24 16 30 17 16 24 35 16]\n",
      "\n",
      "Elements greater than 25:\n",
      "[26 39 27 30 35]\n",
      "\n",
      "Array after replacing elements less than 30 with 0:\n",
      "[ 0  0  0  0  0 39  0  0  0 30  0  0  0 35  0]\n",
      "\n",
      "Number of elements divisible by 5: 4\n"
     ]
    }
   ],
   "source": [
    "import numpy as np\n",
    "\n",
    "# 1. Create a NumPy array with 15 random integers between 10 and 50\n",
    "arr = np.random.randint(10, 51, size=15)\n",
    "print(\"Original Array:\")\n",
    "print(arr)\n",
    "print()\n",
    "\n",
    "# 2a. Find all elements greater than 25\n",
    "greater_than_25 = arr[arr > 25]\n",
    "print(\"Elements greater than 25:\")\n",
    "print(greater_than_25)\n",
    "print()\n",
    "\n",
    "# 2b. Replace all elements less than 30 with 0\n",
    "modified_arr = arr.copy()\n",
    "modified_arr[modified_arr < 30] = 0\n",
    "print(\"Array after replacing elements less than 30 with 0:\")\n",
    "print(modified_arr)\n",
    "print()\n",
    "\n",
    "# 2c. Count elements divisible by 5\n",
    "count_divisible_by_5 = np.sum(arr % 5 == 0)\n",
    "print(\"Number of elements divisible by 5:\", count_divisible_by_5)\n"
   ]
  },
  {
   "cell_type": "markdown",
   "id": "6730ef5c",
   "metadata": {},
   "source": [
    "Task 6: Working with Built-in Functions:-\n",
    "\n",
    "1. Use NumPy's built-in functions to:\n",
    "-->Create an array of 10 equally spaced values between 0 and 1.\n",
    "-->Create an identity matrix of size 4x4.\n",
    "-->Generate a 1D array of 20 random integers between 1 and 100, sort it, and find the 5 largest elements."
   ]
  },
  {
   "cell_type": "code",
   "execution_count": 27,
   "id": "5afa2b6f",
   "metadata": {},
   "outputs": [
    {
     "name": "stdout",
     "output_type": "stream",
     "text": [
      "Equally spaced values between 0 and 1:\n",
      "[0.         0.11111111 0.22222222 0.33333333 0.44444444 0.55555556\n",
      " 0.66666667 0.77777778 0.88888889 1.        ]\n",
      "\n"
     ]
    }
   ],
   "source": [
    "import numpy as np\n",
    "\n",
    "# 1a. Create an array of 10 equally spaced values between 0 and 1\n",
    "equally_spaced = np.linspace(0, 1, 10)\n",
    "print(\"Equally spaced values between 0 and 1:\")\n",
    "print(equally_spaced)\n",
    "print()"
   ]
  },
  {
   "cell_type": "code",
   "execution_count": 28,
   "id": "ec652e78",
   "metadata": {},
   "outputs": [
    {
     "name": "stdout",
     "output_type": "stream",
     "text": [
      "4x4 Identity Matrix:\n",
      "[[1. 0. 0. 0.]\n",
      " [0. 1. 0. 0.]\n",
      " [0. 0. 1. 0.]\n",
      " [0. 0. 0. 1.]]\n",
      "\n"
     ]
    }
   ],
   "source": [
    "# 1b. Create an identity matrix of size 4x4\n",
    "identity_matrix = np.eye(4)\n",
    "print(\"4x4 Identity Matrix:\")\n",
    "print(identity_matrix)\n",
    "print()"
   ]
  },
  {
   "cell_type": "code",
   "execution_count": 30,
   "id": "5ee27efd",
   "metadata": {},
   "outputs": [
    {
     "name": "stdout",
     "output_type": "stream",
     "text": [
      "Original Random Array:\n",
      "[26  5 94 15 92 67 14 32 77 72 81 65 74 87 13 95 14 52 56 91]\n",
      "Sorted Array:\n",
      "[ 5 13 14 14 15 26 32 52 56 65 67 72 74 77 81 87 91 92 94 95]\n",
      "5 Largest Elements:\n",
      "[87 91 92 94 95]\n"
     ]
    }
   ],
   "source": [
    "# 1c. Generate a 1D array of 20 random integers between 1 and 100\n",
    "random_array = np.random.randint(1, 101, size=20)\n",
    "print(\"Original Random Array:\")\n",
    "print(random_array)\n",
    "\n",
    "# Sort the array\n",
    "sorted_array = np.sort(random_array)\n",
    "print(\"Sorted Array:\")\n",
    "print(sorted_array)\n",
    "\n",
    "# Find the 5 largest elements\n",
    "largest_5 = sorted_array[-5:]\n",
    "print(\"5 Largest Elements:\")\n",
    "print(largest_5)"
   ]
  },
  {
   "cell_type": "markdown",
   "id": "5c1b85b2",
   "metadata": {},
   "source": [
    "Task 7: Generic:-\n",
    "\n",
    "1. Create a Python program that:\n",
    "-->Generates two large random arrays of size (100, 100).\n",
    "-->Performs matrix multiplication on the two arrays.\n",
    "-->Finds the determinant and inverse of the resulting matrix (if possible).\n",
    "-->Measures the time taken to complete these operations."
   ]
  },
  {
   "cell_type": "code",
   "execution_count": 32,
   "id": "81257e76",
   "metadata": {},
   "outputs": [
    {
     "name": "stdout",
     "output_type": "stream",
     "text": [
      "Determinant of the resulting matrix: 1.5063630939044328e+51\n",
      "Inverse calculated successfully.\n",
      "\n",
      "Time taken for operations: 0.045839 seconds\n"
     ]
    }
   ],
   "source": [
    "import numpy as np\n",
    "import time\n",
    "\n",
    "# 1. Generate two large random arrays of size (100, 100)\n",
    "A = np.random.rand(100, 100)\n",
    "B = np.random.rand(100, 100)\n",
    "\n",
    "# Start timing\n",
    "start_time = time.time()\n",
    "\n",
    "# 2. Perform matrix multiplication\n",
    "C = np.dot(A, B)\n",
    "\n",
    "# 3. Try to find the determinant and inverse\n",
    "try:\n",
    "    determinant = np.linalg.det(C)\n",
    "    inverse = np.linalg.inv(C)\n",
    "    print(\"Determinant of the resulting matrix:\", determinant)\n",
    "    print(\"Inverse calculated successfully.\")\n",
    "except np.linalg.LinAlgError:\n",
    "    print(\"Matrix is singular and cannot be inverted.\")\n",
    "\n",
    "# End timing\n",
    "end_time = time.time()\n",
    "elapsed_time = end_time - start_time\n",
    "\n",
    "print(\"\\nTime taken for operations: {:.6f} seconds\".format(elapsed_time))\n"
   ]
  },
  {
   "cell_type": "code",
   "execution_count": null,
   "id": "bcb63350",
   "metadata": {},
   "outputs": [],
   "source": []
  }
 ],
 "metadata": {
  "kernelspec": {
   "display_name": ".venv",
   "language": "python",
   "name": "python3"
  },
  "language_info": {
   "codemirror_mode": {
    "name": "ipython",
    "version": 3
   },
   "file_extension": ".py",
   "mimetype": "text/x-python",
   "name": "python",
   "nbconvert_exporter": "python",
   "pygments_lexer": "ipython3",
   "version": "3.12.1"
  }
 },
 "nbformat": 4,
 "nbformat_minor": 5
}
