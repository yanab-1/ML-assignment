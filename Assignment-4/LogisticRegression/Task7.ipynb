{
 "cells": [
  {
   "cell_type": "markdown",
   "id": "98ae73d4",
   "metadata": {},
   "source": [
    "\n",
    "What are the assumptions of linear regression?\n",
    "Linear regression assumes a linear relationship between the independent and dependent variables. It also assumes homoscedasticity (constant variance of errors), independence of observations, no multicollinearity among predictors, and normally distributed residuals.\n",
    "\n",
    "When should you use logistic regression instead of linear regression?\n",
    "Logistic regression is used when the dependent variable is categorical, typically binary (e.g., 0 or 1, yes or no), whereas linear regression is used for predicting continuous outcomes.\n",
    "\n",
    "What is the interpretation of coefficients in logistic regression?\n",
    "In logistic regression, the coefficients represent the change in the log-odds of the outcome for a one-unit increase in the predictor variable, holding other variables constant.\n",
    "\n",
    "What is the difference between sigmoid and softmax functions?\n",
    "The sigmoid function maps a single input to a value between 0 and 1, making it suitable for binary classification. The softmax function, on the other hand, is used in multi-class classification and outputs a probability distribution over multiple classes that sums to 1.\n",
    "\n",
    "Why is R-squared not suitable for evaluating logistic regression models?\n",
    "R-squared measures the proportion of variance explained in linear regression, which assumes continuous outcomes. Logistic regression deals with probabilities and categorical outcomes, so metrics like accuracy, precision, recall, and AUC-ROC are more appropriate."
   ]
  }
 ],
 "metadata": {
  "kernelspec": {
   "display_name": ".venv",
   "language": "python",
   "name": "python3"
  },
  "language_info": {
   "name": "python",
   "version": "3.12.1"
  }
 },
 "nbformat": 4,
 "nbformat_minor": 5
}
