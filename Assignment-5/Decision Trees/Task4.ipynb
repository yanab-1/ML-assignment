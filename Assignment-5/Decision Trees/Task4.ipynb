{
 "cells": [
  {
   "cell_type": "markdown",
   "id": "d2524f63",
   "metadata": {},
   "source": [
    "Assignment Tasks Task 4: Conceptual Questions Answer briefly:\n",
    "\n",
    "1. What is entropy and information gain?\n",
    "2. Explain the difference between Gini Index and Entropy.\n",
    "3. How can a decision tree overfit? How can this be avoided?"
   ]
  },
  {
   "cell_type": "code",
   "execution_count": null,
   "id": "2a763063",
   "metadata": {},
   "outputs": [],
   "source": [
    "1. What is entropy and information gain?\n",
    "\n",
    "-->Entropy is a measure of impurity or randomness in a dataset. It tells us how mixed the class labels are.\n",
    "If all the data points belong to the same class, entropy is 0 (pure). Higher entropy means more disorder\n",
    "and more mixed classes.\n",
    "\n",
    "-->Information Gain is the amount of reduction in entropy when a dataset is split based on a feature.\n",
    "It helps identify the best feature for splitting the data. A higher information gain means the feature\n",
    "gives more useful information for classifying the data.\n",
    "\n",
    "2. Explain the difference between Gini Index and Entropy.\n",
    "\n",
    "Both Gini Index and Entropy measure the impurity of a dataset, but they do it differently.\n",
    "The Gini Index calculates how often a randomly chosen element would be incorrectly classified.\n",
    "It’s simpler and faster to compute, as it doesn’t use logarithms.\n",
    "\n",
    "Entropy is based on information theory and measures the level of disorder or uncertainty. It uses \n",
    "logarithmic calculations.\n",
    "\n",
    "In practice, both give similar results, but Gini is usually preferred for speed, while entropy\n",
    "is preferred when using algorithms like ID3 or C4.5.\n",
    "\n",
    "3. How can a decision tree overfit? How can this be avoided?\n",
    "\n",
    "A decision tree overfits when it becomes too complex and learns not only the patterns in the \n",
    "training data but also the noise or outliers. This leads to poor performance on new, unseen data.\n",
    "\n",
    "To avoid overfitting:\n",
    "\n",
    "-->Use pruning, which removes unnecessary branches from the tree.\n",
    "-->Set a maximum depth for the tree to prevent it from growing too large.\n",
    "-->Set a minimum number of samples required to split a node or to be in a leaf.\n",
    "-->use ensemble methods like Random Forest, which combine multiple decision trees to reduce overfitting.\n"
   ]
  }
 ],
 "metadata": {
  "kernelspec": {
   "display_name": ".venv",
   "language": "python",
   "name": "python3"
  },
  "language_info": {
   "name": "python",
   "version": "3.12.1"
  }
 },
 "nbformat": 4,
 "nbformat_minor": 5
}
