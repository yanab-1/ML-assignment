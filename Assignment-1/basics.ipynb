{
 "cells": [
  {
   "cell_type": "markdown",
   "id": "f600a4e4",
   "metadata": {},
   "source": [
    "1. Make a custom exception\n",
    "2. Make a 2-d array and read and write it in a csv format"
   ]
  },
  {
   "cell_type": "code",
   "execution_count": 5,
   "id": "f280331e",
   "metadata": {},
   "outputs": [
    {
     "name": "stdout",
     "output_type": "stream",
     "text": [
      "Withdrawal successful. Remaining balance: 1000\n"
     ]
    }
   ],
   "source": [
    "# making a custom exception:-\n",
    "balance = 5000\n",
    "withdraw = int(input(\"Enter amount to withdraw: \"))\n",
    "\n",
    "if withdraw > balance:\n",
    "    raise Exception(\"Insufficient balance\")\n",
    "else:\n",
    "    print(\"Withdrawal successful. Remaining balance:\", balance - withdraw)"
   ]
  },
  {
   "cell_type": "code",
   "execution_count": 2,
   "id": "89c0bbbe",
   "metadata": {},
   "outputs": [],
   "source": [
    "#Make a 2-d array and read and write it in a csv format\n",
    "\n",
    "l=[['M1', 'M2', 'M3', 'M4'],\n",
    "   ['1', '2', '3', '4'],\n",
    "   ['5', '6', '6', '7'],\n",
    "   ['8', '9', '10', '11']\n",
    "   ]"
   ]
  },
  {
   "cell_type": "code",
   "execution_count": 3,
   "id": "8881cecd",
   "metadata": {},
   "outputs": [],
   "source": [
    "with open('write.csv','w') as f:\n",
    "    for list in l:\n",
    "        f.write(','.join(map(str,list)))\n",
    "        f.write('\\n')"
   ]
  },
  {
   "cell_type": "code",
   "execution_count": 4,
   "id": "2d196f52",
   "metadata": {},
   "outputs": [
    {
     "name": "stdout",
     "output_type": "stream",
     "text": [
      "M1,M2,M3,M4\n",
      "1,2,3,4\n",
      "5,6,6,7\n",
      "8,9,10,11\n",
      "\n"
     ]
    }
   ],
   "source": [
    "with open('write.csv','r') as f:\n",
    "    f.seek(0)\n",
    "    print(f.read())"
   ]
  }
 ],
 "metadata": {
  "kernelspec": {
   "display_name": ".venv",
   "language": "python",
   "name": "python3"
  },
  "language_info": {
   "codemirror_mode": {
    "name": "ipython",
    "version": 3
   },
   "file_extension": ".py",
   "mimetype": "text/x-python",
   "name": "python",
   "nbconvert_exporter": "python",
   "pygments_lexer": "ipython3",
   "version": "3.12.1"
  }
 },
 "nbformat": 4,
 "nbformat_minor": 5
}
